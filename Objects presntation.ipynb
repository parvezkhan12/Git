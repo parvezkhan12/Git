{
 "cells": [
  {
   "cell_type": "code",
   "execution_count": 24,
   "metadata": {
    "collapsed": false
   },
   "outputs": [],
   "source": [
    "# x=2\n",
    "# dir(int)"
   ]
  },
  {
   "cell_type": "code",
   "execution_count": 22,
   "metadata": {
    "collapsed": false
   },
   "outputs": [
    {
     "name": "stdout",
     "output_type": "stream",
     "text": [
      "8\n"
     ]
    }
   ],
   "source": [
    "# For integer\n",
    "x=2\n",
    "# print(x+3)\n",
    "x.__add__(3)\n",
    "print(x.__pow__(3))\n",
    "# print(x.__add__(3))\n",
    "# print(int.__add__(x,3))"
   ]
  },
  {
   "cell_type": "code",
   "execution_count": 27,
   "metadata": {
    "collapsed": false
   },
   "outputs": [
    {
     "data": {
      "text/plain": [
       "['__add__',\n",
       " '__class__',\n",
       " '__contains__',\n",
       " '__delattr__',\n",
       " '__delitem__',\n",
       " '__dir__',\n",
       " '__doc__',\n",
       " '__eq__',\n",
       " '__format__',\n",
       " '__ge__',\n",
       " '__getattribute__',\n",
       " '__getitem__',\n",
       " '__gt__',\n",
       " '__hash__',\n",
       " '__iadd__',\n",
       " '__imul__',\n",
       " '__init__',\n",
       " '__init_subclass__',\n",
       " '__iter__',\n",
       " '__le__',\n",
       " '__len__',\n",
       " '__lt__',\n",
       " '__mul__',\n",
       " '__ne__',\n",
       " '__new__',\n",
       " '__reduce__',\n",
       " '__reduce_ex__',\n",
       " '__repr__',\n",
       " '__reversed__',\n",
       " '__rmul__',\n",
       " '__setattr__',\n",
       " '__setitem__',\n",
       " '__sizeof__',\n",
       " '__str__',\n",
       " '__subclasshook__',\n",
       " 'append',\n",
       " 'clear',\n",
       " 'copy',\n",
       " 'count',\n",
       " 'extend',\n",
       " 'index',\n",
       " 'insert',\n",
       " 'pop',\n",
       " 'remove',\n",
       " 'reverse',\n",
       " 'sort']"
      ]
     },
     "execution_count": 27,
     "metadata": {},
     "output_type": "execute_result"
    }
   ],
   "source": [
    "# For string\n",
    "s=\"KADERI\"\n",
    "# print(s.__add__(\" KIBRIA\"))\n",
    "# print(s.__len__())\n",
    "dir(s)\n",
    "dir(list)"
   ]
  },
  {
   "cell_type": "code",
   "execution_count": 9,
   "metadata": {
    "collapsed": false
   },
   "outputs": [
    {
     "data": {
      "text/plain": [
       "1"
      ]
     },
     "execution_count": 9,
     "metadata": {},
     "output_type": "execute_result"
    }
   ],
   "source": [
    "# For string \n",
    "a=\"hello\"\n",
    "dir(a)\n",
    "# a.__class__(a)\n",
    "# a.__add__(\" Every body\")\n",
    "a.count(\"h\")\n",
    "# #a.count(\"R\")"
   ]
  },
  {
   "cell_type": "code",
   "execution_count": 28,
   "metadata": {
    "collapsed": false
   },
   "outputs": [
    {
     "name": "stdout",
     "output_type": "stream",
     "text": [
      "WowWow\n",
      "Equality: True  Alias: True\n"
     ]
    }
   ],
   "source": [
    "#String object\n",
    "world1=\"Wow\"\n",
    "world2=\"Wow\"\n",
    "print(world1.__add__(world2))\n",
    "print('Equality:', world1==world2, ' Alias:', world1 is world2)"
   ]
  },
  {
   "cell_type": "code",
   "execution_count": 29,
   "metadata": {
    "collapsed": false
   },
   "outputs": [
    {
     "data": {
      "text/plain": [
       "'EVERYBODY'"
      ]
     },
     "execution_count": 29,
     "metadata": {},
     "output_type": "execute_result"
    }
   ],
   "source": [
    "# upper()\n",
    "world=\"everybody\" \n",
    "world.upper()      #str.upper()\n",
    "world.lower()\n"
   ]
  },
  {
   "cell_type": "code",
   "execution_count": 31,
   "metadata": {
    "collapsed": false
   },
   "outputs": [
    {
     "name": "stdout",
     "output_type": "stream",
     "text": [
      "ABCD******\n",
      "ABCD\n",
      ">>>>>>>>>>>ABCD\n",
      "      ABCD\n"
     ]
    }
   ],
   "source": [
    "# rjust \n",
    "world=\"ABCD\"     \n",
    "print(world.ljust(10, \"*\"))      # rjust(width[, fillchar])\n",
    "print(world.rjust(3, \"*\"))\n",
    "print(world.rjust(15, \">\"))\n",
    "print(world.rjust(10))\n",
    "#dir(str)"
   ]
  },
  {
   "cell_type": "code",
   "execution_count": 15,
   "metadata": {
    "collapsed": false
   },
   "outputs": [
    {
     "name": "stdout",
     "output_type": "stream",
     "text": [
      "ABCD******\n",
      "ABCD\n",
      "ABCD>>>>>>>>>>>\n",
      "ABCD      \n"
     ]
    }
   ],
   "source": [
    "# ljust &rjust\n",
    "world=\"ABCD\"     \n",
    "print(world.ljust(10, \"*\"))      # ljust(width[, fillchar])\n",
    "print(world.ljust(3, \"*\"))\n",
    "print(world.ljust(15, \">\"))\n",
    "print(world.ljust(10))"
   ]
  },
  {
   "cell_type": "code",
   "execution_count": 16,
   "metadata": {
    "collapsed": false
   },
   "outputs": [
    {
     "name": "stdout",
     "output_type": "stream",
     "text": [
      "***ABCD***\n",
      "ABCD\n",
      ">>>>>>ABCD>>>>>\n",
      "   ABCD   \n"
     ]
    }
   ],
   "source": [
    "# center\n",
    "world=\"ABCD\"     \n",
    "print(world.center(10, \"*\"))     # center(width[, fillchar])\n",
    "print(world.center(3, \"*\"))\n",
    "print(world.center(15, \">\"))\n",
    "print(world.center(10)) "
   ]
  },
  {
   "cell_type": "code",
   "execution_count": 38,
   "metadata": {
    "collapsed": false
   },
   "outputs": [
    {
     "name": "stdout",
     "output_type": "stream",
     "text": [
      "AABAA\n",
      "CARBR\n"
     ]
    },
    {
     "data": {
      "text/plain": [
       "'C'"
      ]
     },
     "execution_count": 38,
     "metadata": {},
     "output_type": "execute_result"
    }
   ],
   "source": [
    "'   spacious   '.strip()\n",
    "'spacious   '\n",
    "print(\"      AABAA\".strip(\" \") )             #str. strip([chars])\n",
    "print(\"ABBCARBRBBA\".strip(\"AB\"))      \n",
    "\"ABCABBA\".strip(\"AB\")\n",
    "# \"ABCABBA\".strip(\"AB\")"
   ]
  },
  {
   "cell_type": "code",
   "execution_count": 41,
   "metadata": {
    "collapsed": false
   },
   "outputs": [
    {
     "name": "stdout",
     "output_type": "stream",
     "text": [
      "AAB\n",
      "\n"
     ]
    },
    {
     "data": {
      "text/plain": [
       "'ABC'"
      ]
     },
     "execution_count": 41,
     "metadata": {},
     "output_type": "execute_result"
    }
   ],
   "source": [
    "'   spacious   '.lstrip()\n",
    "'spacious   '\n",
    "print(\"AABAA\".rstrip(\"A\"))\n",
    "print(\"ABBA\".lstrip(\"AB\"))     # both AB and BA are stripped\n",
    "\"ABCABBA\".rstrip(\"AB\")\n",
    "# \"ABCABBA\".lstrip(\"AB\")"
   ]
  },
  {
   "cell_type": "code",
   "execution_count": 51,
   "metadata": {
    "collapsed": false
   },
   "outputs": [
    {
     "name": "stdout",
     "output_type": "stream",
     "text": [
      "False\n",
      "True\n",
      "True\n"
     ]
    }
   ],
   "source": [
    "# startswith\n",
    "text = \"Python is easy to learn.\"\n",
    "\n",
    "result = text.startswith('is easy')     #str.startswith(str, beg=0,end=len(string));\n",
    "# returns False\n",
    "print(result)\n",
    "\n",
    "result = text.startswith('easy ',7)\n",
    "# returns True\n",
    "print(result)\n",
    "\n",
    "result = text.startswith('Python is easy to learn.')\n",
    "# returns True\n",
    "print(result)"
   ]
  },
  {
   "cell_type": "code",
   "execution_count": 56,
   "metadata": {
    "collapsed": false
   },
   "outputs": [
    {
     "name": "stdout",
     "output_type": "stream",
     "text": [
      "The count is: 3\n"
     ]
    }
   ],
   "source": [
    "# define string\n",
    "string = \"Python is awesome Pen Pencile, isn't it?\"\n",
    "substring = \"P\"\n",
    "\n",
    "# count after first 'i' and before the last 'i'\n",
    "count = string.count(substring,0,25)             #string.count(substring, start=..., end=...)\n",
    "\n",
    "# print count\n",
    "print(\"The count is:\", count)"
   ]
  },
  {
   "cell_type": "code",
   "execution_count": 61,
   "metadata": {
    "collapsed": false
   },
   "outputs": [
    {
     "name": "stdout",
     "output_type": "stream",
     "text": [
      "Substring 'is fun': 19\n"
     ]
    },
    {
     "ename": "ValueError",
     "evalue": "substring not found",
     "output_type": "error",
     "traceback": [
      "\u001b[0;31m---------------------------------------------------------------------------\u001b[0m",
      "\u001b[0;31mValueError\u001b[0m                                Traceback (most recent call last)",
      "\u001b[0;32m<ipython-input-61-25da991cc98e>\u001b[0m in \u001b[0;36m<module>\u001b[0;34m()\u001b[0m\n\u001b[1;32m     21\u001b[0m \u001b[0mprint\u001b[0m\u001b[1;33m(\u001b[0m\u001b[1;34m\"Substring 'is fun':\"\u001b[0m\u001b[1;33m,\u001b[0m \u001b[0mresult\u001b[0m\u001b[1;33m)\u001b[0m\u001b[1;33m\u001b[0m\u001b[0m\n\u001b[1;32m     22\u001b[0m \u001b[1;33m\u001b[0m\u001b[0m\n\u001b[0;32m---> 23\u001b[0;31m \u001b[0mresult1\u001b[0m \u001b[1;33m=\u001b[0m \u001b[0msentence\u001b[0m\u001b[1;33m.\u001b[0m\u001b[0mindex\u001b[0m\u001b[1;33m(\u001b[0m\u001b[1;34m'java'\u001b[0m\u001b[1;33m)\u001b[0m\u001b[1;33m\u001b[0m\u001b[0m\n\u001b[0m\u001b[1;32m     24\u001b[0m \u001b[0mprint\u001b[0m\u001b[1;33m(\u001b[0m\u001b[1;34m\"Substring 'java':\"\u001b[0m\u001b[1;33m,\u001b[0m \u001b[0mresult1\u001b[0m\u001b[1;33m)\u001b[0m\u001b[1;33m\u001b[0m\u001b[0m\n",
      "\u001b[0;31mValueError\u001b[0m: substring not found"
     ]
    }
   ],
   "source": [
    "# # find\n",
    "# quote = 'Let it be, let it be, let it be'\n",
    "\n",
    "# # result = quote.lfind('be')\n",
    "# result = quote.find('be')\n",
    "# print(\"Substring 'let it':\", result)\n",
    "\n",
    "# result = quote.find('small')\n",
    "# print(\"Substring 'small ':\", result)\n",
    "\n",
    "# How to use find()\n",
    "# if  (quote.find('be,') != -1):\n",
    "#   print(\"Contains substring 'be,'\")\n",
    "# else:\n",
    "#   print(\"Doesn't contain substring\")\n",
    "\n",
    "\n",
    "sentence = 'Python programming is fun.'\n",
    "\n",
    "result = sentence.index('is fun')\n",
    "print(\"Substring 'is fun':\", result)\n",
    "\n",
    "result1 = sentence.index('java')\n",
    "print(\"Substring 'java':\", result1)"
   ]
  },
  {
   "cell_type": "code",
   "execution_count": 33,
   "metadata": {
    "collapsed": false
   },
   "outputs": [
    {
     "name": "stdout",
     "output_type": "stream",
     "text": [
      "-1\n",
      "3\n",
      "-1\n",
      "9\n"
     ]
    }
   ],
   "source": [
    "quote = 'Do small things with great love'\n",
    "\n",
    "# Substring is searched in 'hings with great love'\n",
    "print(quote.find('small things', 20))          # str.find(sub[, start[, end]] )\n",
    "\n",
    "# Substring is searched in ' small things with great love' \n",
    "print(quote.find('small things', 2))\n",
    "\n",
    "# Substring is searched in 'hings with great lov'\n",
    "print(quote.find('o small ', 10, -1))\n",
    "\n",
    "# Substring is searched in 'll things with'\n",
    "print(quote.find('things ', 6, 20))"
   ]
  },
  {
   "cell_type": "code",
   "execution_count": 34,
   "metadata": {
    "collapsed": false
   },
   "outputs": [
    {
     "name": "stdout",
     "output_type": "stream",
     "text": [
      "Hello Adam, your balance is 230.2346.\n",
      "Hello Adam, your balance is 230.2346.\n",
      "Hello Adam, your balance is 230.2346.\n",
      "Hello Adam, your balance is 230.2346.\n"
     ]
    }
   ],
   "source": [
    "# Formate()\n",
    "# default arguments\n",
    "print(\"Hello {}, your balance is {}.\".format(\"Adam\", 230.2346))\n",
    "\n",
    "# positional arguments                 ### template.format(p0, p1, ..., k0=v0, k1=v1, ...)\n",
    "print(\"Hello {0}, your balance is {1}.\".format(\"Adam\", 230.2346))\n",
    "\n",
    "# keyword arguments     \n",
    "print(\"Hello {name}, your balance is {blc}.\".format(name=\"Adam\", blc=230.2346))\n",
    "\n",
    "# mixed arguments\n",
    "print(\"Hello {0}, your balance is {blc}.\".format(\"Adam\", blc=230.2346))"
   ]
  },
  {
   "cell_type": "code",
   "execution_count": 35,
   "metadata": {
    "collapsed": false
   },
   "outputs": [
    {
     "name": "stdout",
     "output_type": "stream",
     "text": [
      "The number is:123\n",
      "The float number is:123.456790\n",
      "bin: 1100, oct: 14, hex: c\n"
     ]
    }
   ],
   "source": [
    "# integer arguments\n",
    "print(\"The number is:{:d}\".format(123))\n",
    "\n",
    "# float arguments     # https://www.programiz.com/python-programming/methods/string/format\n",
    "print(\"The float number is:{:f}\".format(123.4567898))\n",
    "\n",
    "# octal, binary and hexadecimal format\n",
    "print(\"bin: {0:b}, oct: {0:o}, hex: {0:x}\".format(12))"
   ]
  },
  {
   "cell_type": "code",
   "execution_count": 1,
   "metadata": {
    "collapsed": false
   },
   "outputs": [
    {
     "name": "stdout",
     "output_type": "stream",
     "text": [
      "ADBCFHKDXHLXYZ\n",
      "[ A ][ D ][ B ][ C ][ F ][ H ][ K ][ D ][ X ][ H ][ L ][ X ][ Y ][ Z ]\n",
      "< A >< D >< B >< C >< F >< H >< K >< D >< X >< H >< L >< X >< Y >< Z >\n"
     ]
    }
   ],
   "source": [
    "s= \"ADBCFHKDXHLXYZ\"\n",
    "print(s)\n",
    "for i in range(len(s)):\n",
    "    print(\"[\",s[i], \"]\", sep=\" \", end=\"\")\n",
    "print()\n",
    "for ch in s:\n",
    "    print(\"<\", ch, \">\", sep=\" \", end=\"\")\n",
    "print()"
   ]
  },
  {
   "cell_type": "code",
   "execution_count": 5,
   "metadata": {
    "collapsed": false
   },
   "outputs": [
    {
     "name": "stdout",
     "output_type": "stream",
     "text": [
      "False\n",
      "True\n",
      "True\n"
     ]
    }
   ],
   "source": [
    "# endswitch The endswith() method returns True if a string ends with the specified suffix.\n",
    "#If not, it returns False.\n",
    "text = \"Python is easy to learn.\"\n",
    "\n",
    "result = text.endswith('to learn')\n",
    "# returns False\n",
    "print(result)\n",
    "\n",
    "result = text.endswith('to learn.')   #str.endswith(suffix[, start[, end]])\n",
    "# returns True\n",
    "print(result)\n",
    "\n",
    "result = text.endswith('Python is easy to learn.')\n",
    "# returns True\n",
    "print(result)"
   ]
  },
  {
   "cell_type": "code",
   "execution_count": 63,
   "metadata": {
    "collapsed": false
   },
   "outputs": [
    {
     "name": "stdout",
     "output_type": "stream",
     "text": [
      "True\n",
      "True\n",
      "True\n",
      "True\n"
     ]
    }
   ],
   "source": [
    "# Python String isalnum()\n",
    "# The isalnum() method returns True if all characters in the string are alphanumeric \n",
    "#(either alphabets or numbers). If not, it returns False.\n",
    "name = \"M234onica\"\n",
    "print(name.isalnum())\n",
    "\n",
    "# contains whitespace\n",
    "name = \"M3onica Gell22er\"\n",
    "print(name.isalnum())\n",
    "\n",
    "name = \"Mo3nicaGell22er\"\n",
    "print(name.isalnum())\n",
    "\n",
    "name = \"133\"\n",
    "print(name.isalnum())"
   ]
  },
  {
   "cell_type": "code",
   "execution_count": 65,
   "metadata": {
    "collapsed": false
   },
   "outputs": [
    {
     "name": "stdout",
     "output_type": "stream",
     "text": [
      "False\n",
      "All characters are not alphabets.\n"
     ]
    }
   ],
   "source": [
    "# Python String isalpha()\n",
    "#The isalpha() method returns True if all characters in the string are alphabets. \n",
    "#If not, it returns False.\n",
    "name = \"Moni23ca\"        #string.isalpha()   #The isalpha() doesn't take any parameters.\n",
    "print(name.isalpha())\n",
    "\n",
    "name = \"every23body\"\n",
    "\n",
    "if name.isalpha() == True:\n",
    "   print(\"All characters are alphabets\")\n",
    "else:\n",
    "    print(\"All characters are not alphabets.\")"
   ]
  },
  {
   "cell_type": "code",
   "execution_count": 66,
   "metadata": {
    "collapsed": false
   },
   "outputs": [
    {
     "name": "stdout",
     "output_type": "stream",
     "text": [
      "My Favorite Number Is 25.\n",
      "234 K3L2 *43 Fun\n"
     ]
    }
   ],
   "source": [
    "# Python String title()\n",
    "#The title() method returns a string with first letter of each word capitalized; a title cased string.\n",
    "text = 'My favorite number is 25.'\n",
    "print(text.title())        # str.title()\n",
    "\n",
    "text = '234 k3l2 *43 fun'    # The title() method doesn't take any parameters.\n",
    "print(text.title())"
   ]
  },
  {
   "cell_type": "code",
   "execution_count": 19,
   "metadata": {
    "collapsed": false
   },
   "outputs": [
    {
     "name": "stdout",
     "output_type": "stream",
     "text": [
      "Hi, I am Yuzhen\n",
      "Hi, I am Tom\n"
     ]
    }
   ],
   "source": [
    "class Person(object):\n",
    "        def __init__(self, name=\"Tom\", age=20):\n",
    "                self.name = name\n",
    "                self.age = age      \n",
    "        def talk(self):\n",
    "                print(\"Hi, I am\", self.name)\n",
    "        def __str__(self):\n",
    "                return \"Hi, I am \" + self.name\n",
    "\n",
    "one = Person(name=\"Yuzhen\", age = \"forever 20\")\n",
    "print(one)\n",
    "\n",
    "two = Person()\n",
    "print(two)\n"
   ]
  },
  {
   "cell_type": "code",
   "execution_count": 81,
   "metadata": {
    "collapsed": false
   },
   "outputs": [],
   "source": [
    "# dir(int)"
   ]
  },
  {
   "cell_type": "code",
   "execution_count": 23,
   "metadata": {
    "collapsed": false
   },
   "outputs": [
    {
     "name": "stdout",
     "output_type": "stream",
     "text": [
      "Philo is 5 and Mikey is 6.\n",
      "Philo is a mammal!\n"
     ]
    }
   ],
   "source": [
    "class Dog:\n",
    "\n",
    "    # Class Attribute\n",
    "    species = 'mammal'\n",
    "\n",
    "    # Initializer / Instance Attributes\n",
    "    def __init__(self, name, age):\n",
    "        self.name = name\n",
    "        self.age = age\n",
    "\n",
    "\n",
    "# Instantiate the Dog object\n",
    "philo = Dog(\"Philo\", 5)\n",
    "mikey = Dog(\"Mikey\", 6)\n",
    "\n",
    "# Access the instance attributes\n",
    "print(\"{} is {} and {} is {}.\".format(\n",
    "    philo.name, philo.age, mikey.name, mikey.age))\n",
    "\n",
    "# Is Philo a mammal?\n",
    "if philo.species == \"mammal\":\n",
    "    print(\"{0} is a {1}!\".format(philo.name, philo.species))"
   ]
  },
  {
   "cell_type": "code",
   "execution_count": 83,
   "metadata": {
    "collapsed": false
   },
   "outputs": [
    {
     "name": "stdout",
     "output_type": "stream",
     "text": [
      "So far 1\n",
      "So far 2\n",
      "So far 3\n"
     ]
    }
   ],
   "source": [
    "class PartyAnimal:\n",
    "   x = 0\n",
    "\n",
    "   def party(self) :\n",
    "     self.x = self.x + 1\n",
    "     print(\"So far\",self.x)\n",
    "\n",
    "an = PartyAnimal()\n",
    "\n",
    "an.party()\n",
    "an.party()\n",
    "an.party()\n"
   ]
  },
  {
   "cell_type": "code",
   "execution_count": null,
   "metadata": {
    "collapsed": true
   },
   "outputs": [],
   "source": []
  },
  {
   "cell_type": "code",
   "execution_count": 150,
   "metadata": {
    "collapsed": false
   },
   "outputs": [
    {
     "name": "stdout",
     "output_type": "stream",
     "text": [
      "<ABC>\n"
     ]
    }
   ],
   "source": [
    "s=\" ABC \"\n",
    "s=s.strip()\n",
    "print(\"<\"+ s + \">\")"
   ]
  },
  {
   "cell_type": "code",
   "execution_count": null,
   "metadata": {
    "collapsed": true
   },
   "outputs": [],
   "source": [
    "#### List Objective"
   ]
  },
  {
   "cell_type": "code",
   "execution_count": 70,
   "metadata": {
    "collapsed": false
   },
   "outputs": [
    {
     "name": "stdout",
     "output_type": "stream",
     "text": [
      "Count for 123 :  2\n",
      "Count for zara :  1\n",
      "Count for A :  8\n"
     ]
    }
   ],
   "source": [
    "#List_count\n",
    "aList = [123, 'xyz', 'zara', 'abc', 123];\n",
    "Alist='ATCGTAGATCGAATCGTGCACTGATCGA'\n",
    "print (\"Count for 123 : \", aList.count(123))\n",
    "print (\"Count for zara : \", aList.count('zara'))\n",
    "print(\"Count for A : \", Alist.count('A'))"
   ]
  },
  {
   "cell_type": "code",
   "execution_count": 38,
   "metadata": {
    "collapsed": false
   },
   "outputs": [
    {
     "name": "stdout",
     "output_type": "stream",
     "text": [
      "['barracuda', 'cod', 'devil ray', 'eel', 'flounder']\n"
     ]
    }
   ],
   "source": [
    "# List_append\n",
    "fish = ['barracuda','cod','devil ray','eel']\n",
    "fish.append('flounder')\n",
    "print(fish)"
   ]
  },
  {
   "cell_type": "code",
   "execution_count": 72,
   "metadata": {
    "collapsed": false
   },
   "outputs": [
    {
     "name": "stdout",
     "output_type": "stream",
     "text": [
      "['anchovy', 'barracuda', 'cod', 'devil ray', 'eel']\n"
     ]
    }
   ],
   "source": [
    "# insert\n",
    "fish = ['barracuda','cod','devil ray','eel']     # list.insert(i,x)\n",
    "fish.insert(0,'anchovy')\n",
    "print(fish)"
   ]
  },
  {
   "cell_type": "code",
   "execution_count": 73,
   "metadata": {
    "collapsed": false
   },
   "outputs": [
    {
     "name": "stdout",
     "output_type": "stream",
     "text": [
      "['anchovy', 'barracuda', 'cod', 'devil ray', 'eel', 'goby', 'herring', 'ide', 'kissing gourami']\n"
     ]
    }
   ],
   "source": [
    "# list_extend takes in a second list as its argument.\n",
    "more_fish = ['goby','herring','ide','kissing gourami']\n",
    "fish.extend(more_fish)\n",
    "print(fish)"
   ]
  },
  {
   "cell_type": "code",
   "execution_count": 74,
   "metadata": {
    "collapsed": false
   },
   "outputs": [
    {
     "name": "stdout",
     "output_type": "stream",
     "text": [
      "['anchovy', 'barracuda', 'cod', 'devil ray', 'eel', 'goby', 'herring', 'ide']\n"
     ]
    }
   ],
   "source": [
    "#list.remove(x) method which removes the first item in a list whose value is equivalent to x.\n",
    "fish.remove('kissing gourami')\n",
    "print(fish)"
   ]
  },
  {
   "cell_type": "code",
   "execution_count": 75,
   "metadata": {
    "collapsed": false
   },
   "outputs": [
    {
     "name": "stdout",
     "output_type": "stream",
     "text": [
      "eel\n",
      "['barracuda', 'cod', 'devil ray']\n"
     ]
    }
   ],
   "source": [
    "#list.pop([i]) method to return the item at the given index position from the list and \n",
    "#then remove that item.\n",
    "fish = ['barracuda','cod','devil ray','eel']\n",
    "print(fish.pop(3))\n",
    "print(fish)"
   ]
  },
  {
   "cell_type": "code",
   "execution_count": 76,
   "metadata": {
    "collapsed": false
   },
   "outputs": [
    {
     "name": "stdout",
     "output_type": "stream",
     "text": [
      "['eel', 'devil ray', 'cod', 'barracuda']\n"
     ]
    }
   ],
   "source": [
    "# list.reverse() just reverse of the list\n",
    "fish = ['barracuda','cod','devil ray','eel']\n",
    "fish.reverse()\n",
    "print(fish)"
   ]
  },
  {
   "cell_type": "code",
   "execution_count": 78,
   "metadata": {
    "collapsed": false
   },
   "outputs": [
    {
     "name": "stdout",
     "output_type": "stream",
     "text": [
      "['A', 'B', 'C']\n"
     ]
    }
   ],
   "source": [
    "# list.sort() method to sort the items in a list.\n",
    "fish = [1,3,4,3,2,3,23,4,4,6]\n",
    "fish=[\"A\",\"C\",\"B\"]\n",
    "fish.sort()\n",
    "print(fish)"
   ]
  },
  {
   "cell_type": "code",
   "execution_count": 79,
   "metadata": {
    "collapsed": false
   },
   "outputs": [
    {
     "name": "stdout",
     "output_type": "stream",
     "text": [
      "[]\n"
     ]
    }
   ],
   "source": [
    "# list.clear() remone all element from the list\n",
    "fish = [1,3,4,3,2,3,23,4,4,6]\n",
    "fish.clear()\n",
    "print(fish)"
   ]
  },
  {
   "cell_type": "code",
   "execution_count": 11,
   "metadata": {
    "collapsed": false
   },
   "outputs": [
    {
     "data": {
      "text/plain": [
       "'The rain in Spain.'"
      ]
     },
     "execution_count": 11,
     "metadata": {},
     "output_type": "execute_result"
    }
   ],
   "source": [
    "a = \"The rain in Spain.\"\n",
    "a"
   ]
  },
  {
   "cell_type": "code",
   "execution_count": 12,
   "metadata": {
    "collapsed": false
   },
   "outputs": [
    {
     "data": {
      "text/plain": [
       "'THE RAIN IN SPAIN.'"
      ]
     },
     "execution_count": 12,
     "metadata": {},
     "output_type": "execute_result"
    }
   ],
   "source": [
    "b=a.upper()\n",
    "b"
   ]
  },
  {
   "cell_type": "code",
   "execution_count": 13,
   "metadata": {
    "collapsed": false
   },
   "outputs": [
    {
     "data": {
      "text/plain": [
       "True"
      ]
     },
     "execution_count": 13,
     "metadata": {},
     "output_type": "execute_result"
    }
   ],
   "source": [
    "b.isupper()"
   ]
  },
  {
   "cell_type": "code",
   "execution_count": 17,
   "metadata": {
    "collapsed": false
   },
   "outputs": [
    {
     "data": {
      "text/plain": [
       "0"
      ]
     },
     "execution_count": 17,
     "metadata": {},
     "output_type": "execute_result"
    }
   ],
   "source": [
    "a.count(\"R\")"
   ]
  },
  {
   "cell_type": "code",
   "execution_count": 41,
   "metadata": {
    "collapsed": false
   },
   "outputs": [
    {
     "data": {
      "text/plain": [
       "int"
      ]
     },
     "execution_count": 41,
     "metadata": {},
     "output_type": "execute_result"
    }
   ],
   "source": [
    "x=2\n",
    "type(x)\n"
   ]
  },
  {
   "cell_type": "code",
   "execution_count": 42,
   "metadata": {
    "collapsed": false
   },
   "outputs": [
    {
     "ename": "SyntaxError",
     "evalue": "invalid syntax (<ipython-input-42-ccbb7394a10c>, line 1)",
     "output_type": "error",
     "traceback": [
      "\u001b[0;36m  File \u001b[0;32m\"<ipython-input-42-ccbb7394a10c>\"\u001b[0;36m, line \u001b[0;32m1\u001b[0m\n\u001b[0;31m    class(x)\u001b[0m\n\u001b[0m         ^\u001b[0m\n\u001b[0;31mSyntaxError\u001b[0m\u001b[0;31m:\u001b[0m invalid syntax\n"
     ]
    }
   ],
   "source": [
    "class(x)"
   ]
  },
  {
   "cell_type": "code",
   "execution_count": 43,
   "metadata": {
    "collapsed": true
   },
   "outputs": [],
   "source": [
    ">>> class Snake:\n",
    "...     name = \"python\"\n",
    "...     \n",
    "...     def change_name(self, new_name): # note that the first argument is self\n",
    "...         self.name = new_name # access the class attribute with the self keyword\n",
    "..."
   ]
  },
  {
   "cell_type": "code",
   "execution_count": null,
   "metadata": {
    "collapsed": true
   },
   "outputs": [],
   "source": []
  }
 ],
 "metadata": {
  "kernelspec": {
   "display_name": "Python 3",
   "language": "python",
   "name": "python3"
  },
  "language_info": {
   "codemirror_mode": {
    "name": "ipython",
    "version": 3
   },
   "file_extension": ".py",
   "mimetype": "text/x-python",
   "name": "python",
   "nbconvert_exporter": "python",
   "pygments_lexer": "ipython3",
   "version": "3.6.0"
  }
 },
 "nbformat": 4,
 "nbformat_minor": 2
}
